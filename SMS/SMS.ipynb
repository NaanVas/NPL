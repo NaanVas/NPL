{
 "cells": [
  {
   "cell_type": "code",
   "execution_count": 1,
   "metadata": {},
   "outputs": [],
   "source": [
    "import pandas as pd\n",
    "import numpy as np\n",
    "import seaborn as sns\n",
    "import matplotlib.pyplot as plt\n",
    "from sklearn.model_selection import GridSearchCV, KFold\n",
    "import spacy\n",
    "from unidecode import unidecode\n",
    "import re\n",
    "import string\n",
    "import math\n",
    "from collections import Counter\n",
    "from sklearn.neighbors import KNeighborsClassifier\n",
    "from sklearn.naive_bayes import MultinomialNB\n",
    "from sklearn.svm import SVC\n",
    "from sklearn.metrics import accuracy_score, precision_score, recall_score\n",
    "from sklearn.feature_extraction.text import TfidfVectorizer\n",
    "from scipy import stats"
   ]
  },
  {
   "cell_type": "code",
   "execution_count": 2,
   "metadata": {},
   "outputs": [
    {
     "data": {
      "text/html": [
       "<div>\n",
       "<style scoped>\n",
       "    .dataframe tbody tr th:only-of-type {\n",
       "        vertical-align: middle;\n",
       "    }\n",
       "\n",
       "    .dataframe tbody tr th {\n",
       "        vertical-align: top;\n",
       "    }\n",
       "\n",
       "    .dataframe thead th {\n",
       "        text-align: right;\n",
       "    }\n",
       "</style>\n",
       "<table border=\"1\" class=\"dataframe\">\n",
       "  <thead>\n",
       "    <tr style=\"text-align: right;\">\n",
       "      <th></th>\n",
       "      <th>Tipo</th>\n",
       "      <th>Mensagem</th>\n",
       "    </tr>\n",
       "  </thead>\n",
       "  <tbody>\n",
       "    <tr>\n",
       "      <th>0</th>\n",
       "      <td>ham</td>\n",
       "      <td>Go until jurong point, crazy.. Available only ...</td>\n",
       "    </tr>\n",
       "    <tr>\n",
       "      <th>1</th>\n",
       "      <td>ham</td>\n",
       "      <td>Ok lar... Joking wif u oni...</td>\n",
       "    </tr>\n",
       "    <tr>\n",
       "      <th>2</th>\n",
       "      <td>spam</td>\n",
       "      <td>Free entry in 2 a wkly comp to win FA Cup fina...</td>\n",
       "    </tr>\n",
       "    <tr>\n",
       "      <th>3</th>\n",
       "      <td>ham</td>\n",
       "      <td>U dun say so early hor... U c already then say...</td>\n",
       "    </tr>\n",
       "    <tr>\n",
       "      <th>4</th>\n",
       "      <td>ham</td>\n",
       "      <td>Nah I don't think he goes to usf, he lives aro...</td>\n",
       "    </tr>\n",
       "  </tbody>\n",
       "</table>\n",
       "</div>"
      ],
      "text/plain": [
       "   Tipo                                           Mensagem\n",
       "0   ham  Go until jurong point, crazy.. Available only ...\n",
       "1   ham                      Ok lar... Joking wif u oni...\n",
       "2  spam  Free entry in 2 a wkly comp to win FA Cup fina...\n",
       "3   ham  U dun say so early hor... U c already then say...\n",
       "4   ham  Nah I don't think he goes to usf, he lives aro..."
      ]
     },
     "execution_count": 2,
     "metadata": {},
     "output_type": "execute_result"
    }
   ],
   "source": [
    "caminho_arquivo = 'dataset/SMSSpamCollection'\n",
    "colunas = ['Tipo', 'Mensagem']\n",
    "\n",
    "#carregar aquivo para df pandas\n",
    "df = pd.read_csv(caminho_arquivo, sep='\\t', header=None, names=colunas)\n",
    "\n",
    "df.head()"
   ]
  },
  {
   "cell_type": "code",
   "execution_count": 3,
   "metadata": {},
   "outputs": [
    {
     "data": {
      "text/html": [
       "<div>\n",
       "<style scoped>\n",
       "    .dataframe tbody tr th:only-of-type {\n",
       "        vertical-align: middle;\n",
       "    }\n",
       "\n",
       "    .dataframe tbody tr th {\n",
       "        vertical-align: top;\n",
       "    }\n",
       "\n",
       "    .dataframe thead th {\n",
       "        text-align: right;\n",
       "    }\n",
       "</style>\n",
       "<table border=\"1\" class=\"dataframe\">\n",
       "  <thead>\n",
       "    <tr style=\"text-align: right;\">\n",
       "      <th></th>\n",
       "      <th>Tipo</th>\n",
       "      <th>Mensagem</th>\n",
       "      <th>Tamanho</th>\n",
       "      <th>N_Palavras</th>\n",
       "    </tr>\n",
       "  </thead>\n",
       "  <tbody>\n",
       "    <tr>\n",
       "      <th>0</th>\n",
       "      <td>ham</td>\n",
       "      <td>Go until jurong point, crazy.. Available only ...</td>\n",
       "      <td>111</td>\n",
       "      <td>20</td>\n",
       "    </tr>\n",
       "    <tr>\n",
       "      <th>1</th>\n",
       "      <td>ham</td>\n",
       "      <td>Ok lar... Joking wif u oni...</td>\n",
       "      <td>29</td>\n",
       "      <td>6</td>\n",
       "    </tr>\n",
       "    <tr>\n",
       "      <th>2</th>\n",
       "      <td>spam</td>\n",
       "      <td>Free entry in 2 a wkly comp to win FA Cup fina...</td>\n",
       "      <td>155</td>\n",
       "      <td>28</td>\n",
       "    </tr>\n",
       "    <tr>\n",
       "      <th>3</th>\n",
       "      <td>ham</td>\n",
       "      <td>U dun say so early hor... U c already then say...</td>\n",
       "      <td>49</td>\n",
       "      <td>11</td>\n",
       "    </tr>\n",
       "    <tr>\n",
       "      <th>4</th>\n",
       "      <td>ham</td>\n",
       "      <td>Nah I don't think he goes to usf, he lives aro...</td>\n",
       "      <td>61</td>\n",
       "      <td>13</td>\n",
       "    </tr>\n",
       "  </tbody>\n",
       "</table>\n",
       "</div>"
      ],
      "text/plain": [
       "   Tipo                                           Mensagem  Tamanho  \\\n",
       "0   ham  Go until jurong point, crazy.. Available only ...      111   \n",
       "1   ham                      Ok lar... Joking wif u oni...       29   \n",
       "2  spam  Free entry in 2 a wkly comp to win FA Cup fina...      155   \n",
       "3   ham  U dun say so early hor... U c already then say...       49   \n",
       "4   ham  Nah I don't think he goes to usf, he lives aro...       61   \n",
       "\n",
       "   N_Palavras  \n",
       "0          20  \n",
       "1           6  \n",
       "2          28  \n",
       "3          11  \n",
       "4          13  "
      ]
     },
     "execution_count": 3,
     "metadata": {},
     "output_type": "execute_result"
    }
   ],
   "source": [
    "df['Tamanho'] = df['Mensagem'].apply(len)\n",
    "df['N_Palavras'] = df['Mensagem'].str.split().apply(len)\n",
    "\n",
    "df.head()"
   ]
  },
  {
   "cell_type": "markdown",
   "metadata": {},
   "source": [
    "# **Analise**"
   ]
  },
  {
   "cell_type": "code",
   "execution_count": 4,
   "metadata": {},
   "outputs": [
    {
     "name": "stdout",
     "output_type": "stream",
     "text": [
      "Quantidade de SMS no df: 5572\n"
     ]
    },
    {
     "data": {
      "image/png": "[encoded data removed]",
      "text/plain": [
       "<Figure size 200x400 with 1 Axes>"
      ]
     },
     "metadata": {},
     "output_type": "display_data"
    },
    {
     "name": "stdout",
     "output_type": "stream",
     "text": [
      "Quantidade de Ham: 4825\n",
      "Quantidade de Spam: 747\n"
     ]
    }
   ],
   "source": [
    "print(\"Quantidade de SMS no df:\", df.shape[0])\n",
    "\n",
    "contagem_tipo = df['Tipo'].value_counts()\n",
    "\n",
    "#grafico de barras\n",
    "plt.figure(figsize=(2,4))\n",
    "contagem_tipo.plot(kind='bar', color=['blue', 'black'])\n",
    "plt.title('Distribuição de Mensagens Spam e Ham')\n",
    "plt.xlabel('Tipo')\n",
    "plt.ylabel('Quantidade')\n",
    "plt.xticks(rotation=0)\n",
    "plt.show()\n",
    "\n",
    "print(\"Quantidade de Ham:\", contagem_tipo['ham'])\n",
    "print(\"Quantidade de Spam:\", contagem_tipo['spam'])"
   ]
  },
  {
   "cell_type": "code",
   "execution_count": 5,
   "metadata": {},
   "outputs": [
    {
     "data": {
      "image/png": "[encoded data removed]",
      "text/plain": [
       "<Figure size 200x200 with 1 Axes>"
      ]
     },
     "metadata": {},
     "output_type": "display_data"
    }
   ],
   "source": [
    "plt.figure(figsize=(2,2))\n",
    "plt.pie(contagem_tipo, labels=contagem_tipo.index, autopct='%1.1f%%', startangle=140)\n",
    "plt.title('Distribuição de Mensagens Spam e Ham')\n",
    "plt.axis('equal')\n",
    "plt.show()"
   ]
  },
  {
   "cell_type": "code",
   "execution_count": 6,
   "metadata": {},
   "outputs": [],
   "source": [
    "#separar os df em spam e ham\n",
    "df_spam = df[df['Tipo'] == 'spam']\n",
    "df_ham = df[df['Tipo'] == 'ham']"
   ]
  },
  {
   "cell_type": "code",
   "execution_count": 7,
   "metadata": {},
   "outputs": [
    {
     "data": {
      "image/png": "[encoded data removed]",
      "text/plain": [
       "<Figure size 1000x500 with 2 Axes>"
      ]
     },
     "metadata": {},
     "output_type": "display_data"
    }
   ],
   "source": [
    "#plot do tamanho das mensagem por tipo\n",
    "plt.figure(figsize=(10,5))\n",
    "\n",
    "#hist do tamanho das mensagens spam\n",
    "plt.subplot(1,2,1)\n",
    "plt.hist(df_spam['Tamanho'], color='red', alpha=1)\n",
    "plt.title('Tamanho das Mensagens Spam')\n",
    "plt.xlabel('Número de Caracteres')\n",
    "plt.ylabel('Frequência')\n",
    "\n",
    "#hist do tamanho das mensagens\n",
    "plt.subplot(1,2,2)\n",
    "plt.hist(df_ham['Tamanho'], color='blue', alpha=1)\n",
    "plt.title('Tamanho das Mensagens Ham')\n",
    "plt.xlabel('Número de Caracteres')\n",
    "plt.ylabel('Frequência')\n",
    "\n",
    "plt.tight_layout()\n",
    "plt.show()\n"
   ]
  },
  {
   "cell_type": "code",
   "execution_count": 8,
   "metadata": {},
   "outputs": [
    {
     "data": {
      "image/png": "[encoded data removed]",
      "text/plain": [
       "<Figure size 1000x500 with 2 Axes>"
      ]
     },
     "metadata": {},
     "output_type": "display_data"
    }
   ],
   "source": [
    "#plot o número de palavras por tipo\n",
    "plt.figure(figsize=(10,5))\n",
    "\n",
    "#hist do número de palavras spam\n",
    "plt.subplot(1,2,1)\n",
    "plt.hist(df_spam['N_Palavras'], color='red', alpha=1)\n",
    "plt.title('Número de Palavras em Mensagens Spam')\n",
    "plt.xlabel('Número de Palavras')\n",
    "plt.ylabel('Frequência')\n",
    "\n",
    "#hist do número de palavras ham\n",
    "plt.subplot(1,2,2)\n",
    "plt.hist(df_ham['N_Palavras'], color='blue', alpha=1)\n",
    "plt.title('Número de Palavras em Mensagem Ham')\n",
    "plt.xlabel('Número de Palavras')\n",
    "plt.ylabel('Frequência')\n",
    "\n",
    "plt.tight_layout()\n",
    "plt.show()"
   ]
  },
  {
   "cell_type": "markdown",
   "metadata": {},
   "source": [
    "# **Pré-processamento**"
   ]
  },
  {
   "cell_type": "markdown",
   "metadata": {},
   "source": [
    "## *1 - Normalização, remoção de acentos e stopwords*"
   ]
  },
  {
   "cell_type": "code",
   "execution_count": 9,
   "metadata": {},
   "outputs": [
    {
     "data": {
      "text/html": [
       "<div>\n",
       "<style scoped>\n",
       "    .dataframe tbody tr th:only-of-type {\n",
       "        vertical-align: middle;\n",
       "    }\n",
       "\n",
       "    .dataframe tbody tr th {\n",
       "        vertical-align: top;\n",
       "    }\n",
       "\n",
       "    .dataframe thead th {\n",
       "        text-align: right;\n",
       "    }\n",
       "</style>\n",
       "<table border=\"1\" class=\"dataframe\">\n",
       "  <thead>\n",
       "    <tr style=\"text-align: right;\">\n",
       "      <th></th>\n",
       "      <th>Tipo</th>\n",
       "      <th>Mensagem</th>\n",
       "      <th>Tamanho</th>\n",
       "      <th>N_Palavras</th>\n",
       "    </tr>\n",
       "  </thead>\n",
       "  <tbody>\n",
       "    <tr>\n",
       "      <th>0</th>\n",
       "      <td>ham</td>\n",
       "      <td>jurong point , crazy .. available bugis n grea...</td>\n",
       "      <td>92</td>\n",
       "      <td>19</td>\n",
       "    </tr>\n",
       "    <tr>\n",
       "      <th>1</th>\n",
       "      <td>ham</td>\n",
       "      <td>ok lar ... joking wif u oni ...</td>\n",
       "      <td>31</td>\n",
       "      <td>8</td>\n",
       "    </tr>\n",
       "    <tr>\n",
       "      <th>2</th>\n",
       "      <td>spam</td>\n",
       "      <td>free entry 2 wkly comp win fa cup final tkts 2...</td>\n",
       "      <td>134</td>\n",
       "      <td>23</td>\n",
       "    </tr>\n",
       "    <tr>\n",
       "      <th>3</th>\n",
       "      <td>ham</td>\n",
       "      <td>u dun early hor ... u c ...</td>\n",
       "      <td>27</td>\n",
       "      <td>8</td>\n",
       "    </tr>\n",
       "    <tr>\n",
       "      <th>4</th>\n",
       "      <td>ham</td>\n",
       "      <td>nah think goes usf , lives</td>\n",
       "      <td>26</td>\n",
       "      <td>6</td>\n",
       "    </tr>\n",
       "  </tbody>\n",
       "</table>\n",
       "</div>"
      ],
      "text/plain": [
       "   Tipo                                           Mensagem  Tamanho  \\\n",
       "0   ham  jurong point , crazy .. available bugis n grea...       92   \n",
       "1   ham                    ok lar ... joking wif u oni ...       31   \n",
       "2  spam  free entry 2 wkly comp win fa cup final tkts 2...      134   \n",
       "3   ham                        u dun early hor ... u c ...       27   \n",
       "4   ham                         nah think goes usf , lives       26   \n",
       "\n",
       "   N_Palavras  \n",
       "0          19  \n",
       "1           8  \n",
       "2          23  \n",
       "3           8  \n",
       "4           6  "
      ]
     },
     "execution_count": 9,
     "metadata": {},
     "output_type": "execute_result"
    }
   ],
   "source": [
    "#normaliza para minusculo\n",
    "df['Mensagem'] = df['Mensagem'].str.lower()\n",
    "\n",
    "#remove acentos\n",
    "df['Mensagem'] = df['Mensagem'].apply(lambda x: unidecode(x))\n",
    "\n",
    "#carregar o modelo spaCy para ingles\n",
    "nlp = spacy.load('en_core_web_sm')\n",
    "\n",
    "#funcao para remover stopword\n",
    "def remove_stopword(text):\n",
    "    doc = nlp(text)\n",
    "    tokens_sem_stopword = [token.text for token in doc if not token.is_stop] #romove stopwords\n",
    "    return ' '.join(tokens_sem_stopword) #recria a mensagem sem stopword\n",
    "\n",
    "df['Mensagem'] = df['Mensagem'].apply(remove_stopword)\n",
    "\n",
    "df['Tamanho'] = df['Mensagem'].apply(len)\n",
    "df['N_Palavras'] = df['Mensagem'].str.split().apply(len)\n",
    "df.head()"
   ]
  },
  {
   "cell_type": "markdown",
   "metadata": {},
   "source": [
    "## *2 - Remove marcações e referencias de usuário*"
   ]
  },
  {
   "cell_type": "code",
   "execution_count": 10,
   "metadata": {},
   "outputs": [
    {
     "data": {
      "text/html": [
       "<div>\n",
       "<style scoped>\n",
       "    .dataframe tbody tr th:only-of-type {\n",
       "        vertical-align: middle;\n",
       "    }\n",
       "\n",
       "    .dataframe tbody tr th {\n",
       "        vertical-align: top;\n",
       "    }\n",
       "\n",
       "    .dataframe thead th {\n",
       "        text-align: right;\n",
       "    }\n",
       "</style>\n",
       "<table border=\"1\" class=\"dataframe\">\n",
       "  <thead>\n",
       "    <tr style=\"text-align: right;\">\n",
       "      <th></th>\n",
       "      <th>Tipo</th>\n",
       "      <th>Mensagem</th>\n",
       "      <th>Tamanho</th>\n",
       "      <th>N_Palavras</th>\n",
       "    </tr>\n",
       "  </thead>\n",
       "  <tbody>\n",
       "    <tr>\n",
       "      <th>0</th>\n",
       "      <td>ham</td>\n",
       "      <td>jurong point , crazy .. available bugis n grea...</td>\n",
       "      <td>92</td>\n",
       "      <td>19</td>\n",
       "    </tr>\n",
       "    <tr>\n",
       "      <th>1</th>\n",
       "      <td>ham</td>\n",
       "      <td>ok lar ... joking wif u oni ...</td>\n",
       "      <td>31</td>\n",
       "      <td>8</td>\n",
       "    </tr>\n",
       "    <tr>\n",
       "      <th>2</th>\n",
       "      <td>spam</td>\n",
       "      <td>free entry 2 wkly comp win fa cup final tkts 2...</td>\n",
       "      <td>134</td>\n",
       "      <td>23</td>\n",
       "    </tr>\n",
       "    <tr>\n",
       "      <th>3</th>\n",
       "      <td>ham</td>\n",
       "      <td>u dun early hor ... u c ...</td>\n",
       "      <td>27</td>\n",
       "      <td>8</td>\n",
       "    </tr>\n",
       "    <tr>\n",
       "      <th>4</th>\n",
       "      <td>ham</td>\n",
       "      <td>nah think goes usf , lives</td>\n",
       "      <td>26</td>\n",
       "      <td>6</td>\n",
       "    </tr>\n",
       "  </tbody>\n",
       "</table>\n",
       "</div>"
      ],
      "text/plain": [
       "   Tipo                                           Mensagem  Tamanho  \\\n",
       "0   ham  jurong point , crazy .. available bugis n grea...       92   \n",
       "1   ham                    ok lar ... joking wif u oni ...       31   \n",
       "2  spam  free entry 2 wkly comp win fa cup final tkts 2...      134   \n",
       "3   ham                        u dun early hor ... u c ...       27   \n",
       "4   ham                         nah think goes usf , lives       26   \n",
       "\n",
       "   N_Palavras  \n",
       "0          19  \n",
       "1           8  \n",
       "2          23  \n",
       "3           8  \n",
       "4           6  "
      ]
     },
     "execution_count": 10,
     "metadata": {},
     "output_type": "execute_result"
    }
   ],
   "source": [
    "#funcao para remover hashtags e referencias de usuario\n",
    "def remove_tags_user(text):\n",
    "    texto_sem_tag_user = re.sub(r'@[^\\s]+|#[^\\s]+', '', text) #[^\\s]+ procura mais caracteres que n é o espaço\n",
    "    return texto_sem_tag_user\n",
    "\n",
    "#aplica a funcao na coluna mensagem\n",
    "df['Mensagem'] = df['Mensagem'].apply(remove_tags_user)\n",
    "\n",
    "df['Tamanho'] = df['Mensagem'].apply(len)\n",
    "df['N_Palavras'] = df['Mensagem'].str.split().apply(len)\n",
    "df.head()"
   ]
  },
  {
   "cell_type": "markdown",
   "metadata": {},
   "source": [
    "## *3 - Reduz possiveis repetições*"
   ]
  },
  {
   "cell_type": "code",
   "execution_count": 11,
   "metadata": {},
   "outputs": [
    {
     "data": {
      "text/html": [
       "<div>\n",
       "<style scoped>\n",
       "    .dataframe tbody tr th:only-of-type {\n",
       "        vertical-align: middle;\n",
       "    }\n",
       "\n",
       "    .dataframe tbody tr th {\n",
       "        vertical-align: top;\n",
       "    }\n",
       "\n",
       "    .dataframe thead th {\n",
       "        text-align: right;\n",
       "    }\n",
       "</style>\n",
       "<table border=\"1\" class=\"dataframe\">\n",
       "  <thead>\n",
       "    <tr style=\"text-align: right;\">\n",
       "      <th></th>\n",
       "      <th>Tipo</th>\n",
       "      <th>Mensagem</th>\n",
       "      <th>Tamanho</th>\n",
       "      <th>N_Palavras</th>\n",
       "    </tr>\n",
       "  </thead>\n",
       "  <tbody>\n",
       "    <tr>\n",
       "      <th>0</th>\n",
       "      <td>ham</td>\n",
       "      <td>jurong point , crazy .. available bugis n grea...</td>\n",
       "      <td>90</td>\n",
       "      <td>19</td>\n",
       "    </tr>\n",
       "    <tr>\n",
       "      <th>1</th>\n",
       "      <td>ham</td>\n",
       "      <td>ok lar .. joking wif u oni ..</td>\n",
       "      <td>29</td>\n",
       "      <td>8</td>\n",
       "    </tr>\n",
       "    <tr>\n",
       "      <th>2</th>\n",
       "      <td>spam</td>\n",
       "      <td>free entry 2 wkly comp win fa cup final tkts 2...</td>\n",
       "      <td>134</td>\n",
       "      <td>23</td>\n",
       "    </tr>\n",
       "    <tr>\n",
       "      <th>3</th>\n",
       "      <td>ham</td>\n",
       "      <td>u dun early hor .. u c ..</td>\n",
       "      <td>25</td>\n",
       "      <td>8</td>\n",
       "    </tr>\n",
       "    <tr>\n",
       "      <th>4</th>\n",
       "      <td>ham</td>\n",
       "      <td>nah think goes usf , lives</td>\n",
       "      <td>26</td>\n",
       "      <td>6</td>\n",
       "    </tr>\n",
       "  </tbody>\n",
       "</table>\n",
       "</div>"
      ],
      "text/plain": [
       "   Tipo                                           Mensagem  Tamanho  \\\n",
       "0   ham  jurong point , crazy .. available bugis n grea...       90   \n",
       "1   ham                      ok lar .. joking wif u oni ..       29   \n",
       "2  spam  free entry 2 wkly comp win fa cup final tkts 2...      134   \n",
       "3   ham                          u dun early hor .. u c ..       25   \n",
       "4   ham                         nah think goes usf , lives       26   \n",
       "\n",
       "   N_Palavras  \n",
       "0          19  \n",
       "1           8  \n",
       "2          23  \n",
       "3           8  \n",
       "4           6  "
      ]
     },
     "execution_count": 11,
     "metadata": {},
     "output_type": "execute_result"
    }
   ],
   "source": [
    "#funcao para reduzir repeticoes\n",
    "def reduz_repeticao(text):\n",
    "    return re.sub(r'(.)\\1+', r'\\1\\1', text)#(.)\\1+ procura por qualquer caractere seguido pelo menos uma repetição, r'\\1\\1 substiu essa sequencia por duas ocorrencias do caractere\n",
    "\n",
    "df['Mensagem'] = df['Mensagem'].apply(reduz_repeticao)\n",
    "\n",
    "df['Tamanho'] = df['Mensagem'].apply(len)\n",
    "df['N_Palavras'] = df['Mensagem'].str.split().apply(len)\n",
    "df.head()"
   ]
  },
  {
   "cell_type": "markdown",
   "metadata": {},
   "source": [
    "## *4 - Remove urls com formato www https*"
   ]
  },
  {
   "cell_type": "code",
   "execution_count": 12,
   "metadata": {},
   "outputs": [
    {
     "data": {
      "text/html": [
       "<div>\n",
       "<style scoped>\n",
       "    .dataframe tbody tr th:only-of-type {\n",
       "        vertical-align: middle;\n",
       "    }\n",
       "\n",
       "    .dataframe tbody tr th {\n",
       "        vertical-align: top;\n",
       "    }\n",
       "\n",
       "    .dataframe thead th {\n",
       "        text-align: right;\n",
       "    }\n",
       "</style>\n",
       "<table border=\"1\" class=\"dataframe\">\n",
       "  <thead>\n",
       "    <tr style=\"text-align: right;\">\n",
       "      <th></th>\n",
       "      <th>Tipo</th>\n",
       "      <th>Mensagem</th>\n",
       "      <th>Tamanho</th>\n",
       "      <th>N_Palavras</th>\n",
       "    </tr>\n",
       "  </thead>\n",
       "  <tbody>\n",
       "    <tr>\n",
       "      <th>0</th>\n",
       "      <td>ham</td>\n",
       "      <td>jurong point , crazy .. available bugis n grea...</td>\n",
       "      <td>90</td>\n",
       "      <td>19</td>\n",
       "    </tr>\n",
       "    <tr>\n",
       "      <th>1</th>\n",
       "      <td>ham</td>\n",
       "      <td>ok lar .. joking wif u oni ..</td>\n",
       "      <td>29</td>\n",
       "      <td>8</td>\n",
       "    </tr>\n",
       "    <tr>\n",
       "      <th>2</th>\n",
       "      <td>spam</td>\n",
       "      <td>free entry 2 wkly comp win fa cup final tkts 2...</td>\n",
       "      <td>134</td>\n",
       "      <td>23</td>\n",
       "    </tr>\n",
       "    <tr>\n",
       "      <th>3</th>\n",
       "      <td>ham</td>\n",
       "      <td>u dun early hor .. u c ..</td>\n",
       "      <td>25</td>\n",
       "      <td>8</td>\n",
       "    </tr>\n",
       "    <tr>\n",
       "      <th>4</th>\n",
       "      <td>ham</td>\n",
       "      <td>nah think goes usf , lives</td>\n",
       "      <td>26</td>\n",
       "      <td>6</td>\n",
       "    </tr>\n",
       "  </tbody>\n",
       "</table>\n",
       "</div>"
      ],
      "text/plain": [
       "   Tipo                                           Mensagem  Tamanho  \\\n",
       "0   ham  jurong point , crazy .. available bugis n grea...       90   \n",
       "1   ham                      ok lar .. joking wif u oni ..       29   \n",
       "2  spam  free entry 2 wkly comp win fa cup final tkts 2...      134   \n",
       "3   ham                          u dun early hor .. u c ..       25   \n",
       "4   ham                         nah think goes usf , lives       26   \n",
       "\n",
       "   N_Palavras  \n",
       "0          19  \n",
       "1           8  \n",
       "2          23  \n",
       "3           8  \n",
       "4           6  "
      ]
     },
     "execution_count": 12,
     "metadata": {},
     "output_type": "execute_result"
    }
   ],
   "source": [
    "#funcao para remover urls\n",
    "def remove_urls(text):\n",
    "    return re.sub(r'\\b(?:https?://|www\\.)\\S+\\b', '', text) #substitui qualquer sequencia que começa com https:// ou www. até achar um caractere em branco\n",
    "\n",
    "df['Mensagem'] = df['Mensagem'].apply(remove_urls)\n",
    "\n",
    "df['Tamanho'] = df['Mensagem'].apply(len)\n",
    "df['N_Palavras'] = df['Mensagem'].str.split().apply(len)\n",
    "df.head()"
   ]
  },
  {
   "cell_type": "markdown",
   "metadata": {},
   "source": [
    "## *5 - Remove pontuações*"
   ]
  },
  {
   "cell_type": "code",
   "execution_count": 13,
   "metadata": {},
   "outputs": [
    {
     "data": {
      "text/html": [
       "<div>\n",
       "<style scoped>\n",
       "    .dataframe tbody tr th:only-of-type {\n",
       "        vertical-align: middle;\n",
       "    }\n",
       "\n",
       "    .dataframe tbody tr th {\n",
       "        vertical-align: top;\n",
       "    }\n",
       "\n",
       "    .dataframe thead th {\n",
       "        text-align: right;\n",
       "    }\n",
       "</style>\n",
       "<table border=\"1\" class=\"dataframe\">\n",
       "  <thead>\n",
       "    <tr style=\"text-align: right;\">\n",
       "      <th></th>\n",
       "      <th>Tipo</th>\n",
       "      <th>Mensagem</th>\n",
       "      <th>Tamanho</th>\n",
       "      <th>N_Palavras</th>\n",
       "    </tr>\n",
       "  </thead>\n",
       "  <tbody>\n",
       "    <tr>\n",
       "      <th>0</th>\n",
       "      <td>ham</td>\n",
       "      <td>jurong point  crazy  available bugis n great w...</td>\n",
       "      <td>83</td>\n",
       "      <td>15</td>\n",
       "    </tr>\n",
       "    <tr>\n",
       "      <th>1</th>\n",
       "      <td>ham</td>\n",
       "      <td>ok lar  joking wif u oni</td>\n",
       "      <td>25</td>\n",
       "      <td>6</td>\n",
       "    </tr>\n",
       "    <tr>\n",
       "      <th>2</th>\n",
       "      <td>spam</td>\n",
       "      <td>free entry 2 wkly comp win fa cup final tkts 2...</td>\n",
       "      <td>130</td>\n",
       "      <td>22</td>\n",
       "    </tr>\n",
       "    <tr>\n",
       "      <th>3</th>\n",
       "      <td>ham</td>\n",
       "      <td>u dun early hor  u c</td>\n",
       "      <td>21</td>\n",
       "      <td>6</td>\n",
       "    </tr>\n",
       "    <tr>\n",
       "      <th>4</th>\n",
       "      <td>ham</td>\n",
       "      <td>nah think goes usf  lives</td>\n",
       "      <td>25</td>\n",
       "      <td>5</td>\n",
       "    </tr>\n",
       "  </tbody>\n",
       "</table>\n",
       "</div>"
      ],
      "text/plain": [
       "   Tipo                                           Mensagem  Tamanho  \\\n",
       "0   ham  jurong point  crazy  available bugis n great w...       83   \n",
       "1   ham                          ok lar  joking wif u oni        25   \n",
       "2  spam  free entry 2 wkly comp win fa cup final tkts 2...      130   \n",
       "3   ham                              u dun early hor  u c        21   \n",
       "4   ham                          nah think goes usf  lives       25   \n",
       "\n",
       "   N_Palavras  \n",
       "0          15  \n",
       "1           6  \n",
       "2          22  \n",
       "3           6  \n",
       "4           5  "
      ]
     },
     "execution_count": 13,
     "metadata": {},
     "output_type": "execute_result"
    }
   ],
   "source": [
    "#Funcao parar remover pontuacao\n",
    "def remove_pontuacao(text):\n",
    "    translator = str.maketrans('', '', string.punctuation)\n",
    "    return text.translate(translator)\n",
    "\n",
    "df['Mensagem'] = df['Mensagem'].apply(remove_pontuacao)\n",
    "\n",
    "df['Tamanho'] = df['Mensagem'].apply(len)\n",
    "df['N_Palavras'] = df['Mensagem'].str.split().apply(len)\n",
    "df.head()"
   ]
  },
  {
   "cell_type": "markdown",
   "metadata": {},
   "source": [
    "## *6 - Remover entidades referentes a localização e organização utilizando spaCy*"
   ]
  },
  {
   "cell_type": "code",
   "execution_count": 14,
   "metadata": {},
   "outputs": [
    {
     "data": {
      "text/html": [
       "<div>\n",
       "<style scoped>\n",
       "    .dataframe tbody tr th:only-of-type {\n",
       "        vertical-align: middle;\n",
       "    }\n",
       "\n",
       "    .dataframe tbody tr th {\n",
       "        vertical-align: top;\n",
       "    }\n",
       "\n",
       "    .dataframe thead th {\n",
       "        text-align: right;\n",
       "    }\n",
       "</style>\n",
       "<table border=\"1\" class=\"dataframe\">\n",
       "  <thead>\n",
       "    <tr style=\"text-align: right;\">\n",
       "      <th></th>\n",
       "      <th>Tipo</th>\n",
       "      <th>Mensagem</th>\n",
       "      <th>Tamanho</th>\n",
       "      <th>N_Palavras</th>\n",
       "    </tr>\n",
       "  </thead>\n",
       "  <tbody>\n",
       "    <tr>\n",
       "      <th>0</th>\n",
       "      <td>ham</td>\n",
       "      <td>jurong point   crazy   available bugis n great...</td>\n",
       "      <td>85</td>\n",
       "      <td>15</td>\n",
       "    </tr>\n",
       "    <tr>\n",
       "      <th>1</th>\n",
       "      <td>ham</td>\n",
       "      <td>ok lar   joking wif u oni</td>\n",
       "      <td>25</td>\n",
       "      <td>6</td>\n",
       "    </tr>\n",
       "    <tr>\n",
       "      <th>2</th>\n",
       "      <td>spam</td>\n",
       "      <td>free entry 2 wkly comp win fa cup final tkts 2...</td>\n",
       "      <td>131</td>\n",
       "      <td>22</td>\n",
       "    </tr>\n",
       "    <tr>\n",
       "      <th>3</th>\n",
       "      <td>ham</td>\n",
       "      <td>u dun early hor   u c</td>\n",
       "      <td>21</td>\n",
       "      <td>6</td>\n",
       "    </tr>\n",
       "    <tr>\n",
       "      <th>4</th>\n",
       "      <td>ham</td>\n",
       "      <td>nah think goes usf   lives</td>\n",
       "      <td>26</td>\n",
       "      <td>5</td>\n",
       "    </tr>\n",
       "  </tbody>\n",
       "</table>\n",
       "</div>"
      ],
      "text/plain": [
       "   Tipo                                           Mensagem  Tamanho  \\\n",
       "0   ham  jurong point   crazy   available bugis n great...       85   \n",
       "1   ham                          ok lar   joking wif u oni       25   \n",
       "2  spam  free entry 2 wkly comp win fa cup final tkts 2...      131   \n",
       "3   ham                              u dun early hor   u c       21   \n",
       "4   ham                         nah think goes usf   lives       26   \n",
       "\n",
       "   N_Palavras  \n",
       "0          15  \n",
       "1           6  \n",
       "2          22  \n",
       "3           6  \n",
       "4           5  "
      ]
     },
     "execution_count": 14,
     "metadata": {},
     "output_type": "execute_result"
    }
   ],
   "source": [
    "#funcao para remover entidadesde localizacao e organizacao\n",
    "def remove_loc_org(text):\n",
    "    doc = nlp(text)\n",
    "    texto_limpo = ' '.join([token.text if token.ent_type_ not in ['LOC', 'ORG'] else '' for token in doc])#se a entidade tokne.ent_type_ n for de LOC(localizacao) ou ORG(organizacao) o texto do token é mantido, se n vira uma string vazia\n",
    "    return texto_limpo.strip()\n",
    "\n",
    "df['Mensagem'] = df['Mensagem'].apply(remove_loc_org)\n",
    "\n",
    "df['Tamanho'] = df['Mensagem'].apply(len)\n",
    "df['N_Palavras'] = df['Mensagem'].str.split().apply(len)\n",
    "df.head()"
   ]
  },
  {
   "cell_type": "markdown",
   "metadata": {},
   "source": [
    "## *7 - Remover tokens numericos*"
   ]
  },
  {
   "cell_type": "code",
   "execution_count": 15,
   "metadata": {},
   "outputs": [
    {
     "data": {
      "text/html": [
       "<div>\n",
       "<style scoped>\n",
       "    .dataframe tbody tr th:only-of-type {\n",
       "        vertical-align: middle;\n",
       "    }\n",
       "\n",
       "    .dataframe tbody tr th {\n",
       "        vertical-align: top;\n",
       "    }\n",
       "\n",
       "    .dataframe thead th {\n",
       "        text-align: right;\n",
       "    }\n",
       "</style>\n",
       "<table border=\"1\" class=\"dataframe\">\n",
       "  <thead>\n",
       "    <tr style=\"text-align: right;\">\n",
       "      <th></th>\n",
       "      <th>Tipo</th>\n",
       "      <th>Mensagem</th>\n",
       "      <th>Tamanho</th>\n",
       "      <th>N_Palavras</th>\n",
       "    </tr>\n",
       "  </thead>\n",
       "  <tbody>\n",
       "    <tr>\n",
       "      <th>0</th>\n",
       "      <td>ham</td>\n",
       "      <td>jurong point   crazy   available bugis n great...</td>\n",
       "      <td>85</td>\n",
       "      <td>15</td>\n",
       "    </tr>\n",
       "    <tr>\n",
       "      <th>1</th>\n",
       "      <td>ham</td>\n",
       "      <td>ok lar   joking wif u oni</td>\n",
       "      <td>25</td>\n",
       "      <td>6</td>\n",
       "    </tr>\n",
       "    <tr>\n",
       "      <th>2</th>\n",
       "      <td>spam</td>\n",
       "      <td>free entry  wkly comp win fa cup final tkts   ...</td>\n",
       "      <td>100</td>\n",
       "      <td>17</td>\n",
       "    </tr>\n",
       "    <tr>\n",
       "      <th>3</th>\n",
       "      <td>ham</td>\n",
       "      <td>u dun early hor   u c</td>\n",
       "      <td>21</td>\n",
       "      <td>6</td>\n",
       "    </tr>\n",
       "    <tr>\n",
       "      <th>4</th>\n",
       "      <td>ham</td>\n",
       "      <td>nah think goes usf   lives</td>\n",
       "      <td>26</td>\n",
       "      <td>5</td>\n",
       "    </tr>\n",
       "  </tbody>\n",
       "</table>\n",
       "</div>"
      ],
      "text/plain": [
       "   Tipo                                           Mensagem  Tamanho  \\\n",
       "0   ham  jurong point   crazy   available bugis n great...       85   \n",
       "1   ham                          ok lar   joking wif u oni       25   \n",
       "2  spam  free entry  wkly comp win fa cup final tkts   ...      100   \n",
       "3   ham                              u dun early hor   u c       21   \n",
       "4   ham                         nah think goes usf   lives       26   \n",
       "\n",
       "   N_Palavras  \n",
       "0          15  \n",
       "1           6  \n",
       "2          17  \n",
       "3           6  \n",
       "4           5  "
      ]
     },
     "execution_count": 15,
     "metadata": {},
     "output_type": "execute_result"
    }
   ],
   "source": [
    "#funcao para remover tokens numericos\n",
    "def remove_tokens_num(text):\n",
    "    return re.sub(r'\\b\\w*\\d\\w*\\b', '', text)#\\b fronteira de palavra, \\w* zero ou mais caracteres de palavra, \\d qualquer digito, removendo palavra que contenham número \n",
    "\n",
    "df['Mensagem'] = df['Mensagem'].apply(remove_tokens_num)\n",
    "\n",
    "df['Tamanho'] = df['Mensagem'].apply(len)\n",
    "df['N_Palavras'] = df['Mensagem'].str.split().apply(len)\n",
    "df.head()\n"
   ]
  },
  {
   "cell_type": "markdown",
   "metadata": {},
   "source": [
    "## *8 - Remover palavras com menos de 3 caracteres*"
   ]
  },
  {
   "cell_type": "code",
   "execution_count": 16,
   "metadata": {},
   "outputs": [
    {
     "data": {
      "text/html": [
       "<div>\n",
       "<style scoped>\n",
       "    .dataframe tbody tr th:only-of-type {\n",
       "        vertical-align: middle;\n",
       "    }\n",
       "\n",
       "    .dataframe tbody tr th {\n",
       "        vertical-align: top;\n",
       "    }\n",
       "\n",
       "    .dataframe thead th {\n",
       "        text-align: right;\n",
       "    }\n",
       "</style>\n",
       "<table border=\"1\" class=\"dataframe\">\n",
       "  <thead>\n",
       "    <tr style=\"text-align: right;\">\n",
       "      <th></th>\n",
       "      <th>Tipo</th>\n",
       "      <th>Mensagem</th>\n",
       "      <th>Tamanho</th>\n",
       "      <th>N_Palavras</th>\n",
       "    </tr>\n",
       "  </thead>\n",
       "  <tbody>\n",
       "    <tr>\n",
       "      <th>0</th>\n",
       "      <td>ham</td>\n",
       "      <td>jurong point   crazy   available bugis  great ...</td>\n",
       "      <td>81</td>\n",
       "      <td>12</td>\n",
       "    </tr>\n",
       "    <tr>\n",
       "      <th>1</th>\n",
       "      <td>ham</td>\n",
       "      <td>lar   joking wif  oni</td>\n",
       "      <td>22</td>\n",
       "      <td>4</td>\n",
       "    </tr>\n",
       "    <tr>\n",
       "      <th>2</th>\n",
       "      <td>spam</td>\n",
       "      <td>free entry  wkly comp win  cup final tkts     ...</td>\n",
       "      <td>96</td>\n",
       "      <td>15</td>\n",
       "    </tr>\n",
       "    <tr>\n",
       "      <th>3</th>\n",
       "      <td>ham</td>\n",
       "      <td>dun early hor</td>\n",
       "      <td>18</td>\n",
       "      <td>3</td>\n",
       "    </tr>\n",
       "    <tr>\n",
       "      <th>4</th>\n",
       "      <td>ham</td>\n",
       "      <td>nah think goes usf   lives</td>\n",
       "      <td>26</td>\n",
       "      <td>5</td>\n",
       "    </tr>\n",
       "  </tbody>\n",
       "</table>\n",
       "</div>"
      ],
      "text/plain": [
       "   Tipo                                           Mensagem  Tamanho  \\\n",
       "0   ham  jurong point   crazy   available bugis  great ...       81   \n",
       "1   ham                              lar   joking wif  oni       22   \n",
       "2  spam  free entry  wkly comp win  cup final tkts     ...       96   \n",
       "3   ham                                  dun early hor           18   \n",
       "4   ham                         nah think goes usf   lives       26   \n",
       "\n",
       "   N_Palavras  \n",
       "0          12  \n",
       "1           4  \n",
       "2          15  \n",
       "3           3  \n",
       "4           5  "
      ]
     },
     "execution_count": 16,
     "metadata": {},
     "output_type": "execute_result"
    }
   ],
   "source": [
    "#funcao para remover palavras com menos de 3 caracteres\n",
    "def remove_palavras_pequenas(text):\n",
    "    return re.sub(r'\\b\\w{1,2}\\b', '', text)#\\w{1,2} encontra palavras que tem de 1 a 2 caracteres\n",
    "\n",
    "df['Mensagem'] = df['Mensagem'].apply(remove_palavras_pequenas)\n",
    "\n",
    "df['Tamanho'] = df['Mensagem'].apply(len)\n",
    "df['N_Palavras'] = df['Mensagem'].str.split().apply(len)\n",
    "df.head()\n"
   ]
  },
  {
   "cell_type": "markdown",
   "metadata": {},
   "source": [
    "## *9 - Remover nomes pessoais*"
   ]
  },
  {
   "cell_type": "code",
   "execution_count": null,
   "metadata": {},
   "outputs": [],
   "source": []
  },
  {
   "cell_type": "markdown",
   "metadata": {},
   "source": [
    "<!--#funcao para calcular o Tf (Term Frequency)\n",
    "def calcula_tf(text):\n",
    "    palavras = text.split() #separa o texto em palavras\n",
    "    count_palavras = Counter(palavras) #conta a frequencia das palavras\n",
    "    total_palavras = len(palavras) \n",
    "    tf = {palavras: count_palavras[palavras] / total_palavras for palavras in count_palavras} #razao entre o numero de vezes que a palavra aparece e o numero total de palavras no documento\n",
    "    return tf\n",
    "\n",
    "#funcao para calcular o idf (Inverse Document Frequency)\n",
    "def calcula_idf(data):\n",
    "    total_documentos = len(data)\n",
    "    idf = {}\n",
    "    todas_palavras = ' '.join(data).split() #junta os documentos em uma string e divide a string em uma lista de todas as palavras\n",
    "    palavras_unicas = set(todas_palavras) #cria um conjunto de palavras unicas\n",
    "\n",
    "    for palavra in palavras_unicas:\n",
    "        count_palavra = sum(1 for doc in data if palavra in doc.split()) #para cada palavras unica, percorre todos os doc e verifica se a palavra esta presente nele, se estiver incrementa o contados\n",
    "        idf[palavra] = math.log(total_documentos / (1 + count_palavra)) #calcula o IDF da palavra atual usando IDF = log(N / (1+n)), N numero de documento, n numero de documento que tem a palavra\n",
    "    \n",
    "    return idf -->"
   ]
  },
  {
   "cell_type": "markdown",
   "metadata": {},
   "source": [
    "<!--#calcula o TF para cada documento\n",
    "df['TF'] = df['Mensagem'].apply(calcula_tf)\n",
    "\n",
    "#calcula o IDF para o conjunto de documentos\n",
    "idf_values = calcula_idf(df['Mensagem'])\n",
    "\n",
    "#cria um conjunto de todas as palavras únicas nos documentos\n",
    "words_set = set().union(*[doc.keys() for doc in df['TF']])\n",
    "\n",
    "#calcula diretamente os valores TF-IDF na matriz\n",
    "tfidf_matrix = []\n",
    "for i, row in df.iterrows():\n",
    "    tfidf_matrix.append([row['TF'][word] * idf_values[word] if word in row['TF'] else 0 for word in words_set])\n",
    "    -->\n"
   ]
  },
  {
   "cell_type": "markdown",
   "metadata": {},
   "source": [
    "# **Treinamento**"
   ]
  },
  {
   "cell_type": "code",
   "execution_count": 28,
   "metadata": {},
   "outputs": [],
   "source": [
    "def treino_avaliacao_modelo(X_train, y_train, X_test, y_test, model, param_grid):\n",
    "    tfidf_vectorizer = TfidfVectorizer()\n",
    "    #aplicando o tf_idf no train e usando o tfidf do train pro teste\n",
    "    X_train_tfidf = tfidf_vectorizer.fit_transform(X_train)\n",
    "    X_test_tfidf = tfidf_vectorizer.transform(X_test)\n",
    "\n",
    "    grid_search = GridSearchCV(model, param_grid, cv=5, scoring='accuracy')\n",
    "    grid_search.fit(X_train_tfidf, y_train)\n",
    "\n",
    "    y_pred = grid_search.predict(X_test_tfidf)\n",
    "\n",
    "    accuracy = accuracy_score(y_test, y_pred)\n",
    "    precision = precision_score(y_test, y_pred, average='weighted')\n",
    "    recall = recall_score(y_test, y_pred, average='weighted')\n",
    "\n",
    "    return accuracy, precision, recall\n",
    "\n",
    "def calcular_F1_score(precision, recall, f1_score):\n",
    "    f1 = 2 * (precision * recall) / (precision + recall + 1e-10)\n",
    "    f1_score.append(f1)\n"
   ]
  },
  {
   "cell_type": "code",
   "execution_count": 27,
   "metadata": {},
   "outputs": [],
   "source": [
    "k_fold = KFold(n_splits=10, shuffle=True, random_state=11)\n",
    "\n",
    "#parametros do grid search\n",
    "param_nb= {\n",
    "    'alpha': [0.1, 0.3, 0.5, 1.0]\n",
    "    }\n",
    "\n",
    "param_svm = {\n",
    "    'C': [1, 10, 100],\n",
    "    'kernel': ['linear', 'rbf']\n",
    "}\n",
    "\n",
    "param_knn = {\n",
    "    'n_neighbors': [3, 5, 7],\n",
    "    'weights': ['uniform', 'distance']\n",
    "}\n",
    "\n",
    "#inicializar os classificadores\n",
    "nb_classificador = MultinomialNB()\n",
    "knn_classificador = KNeighborsClassifier()\n",
    "svm_classificador = SVC()\n",
    "\n",
    "#listas para armazenar resultados\n",
    "accuracies_nb, precisions_nb, recalls_nb, f1_score_nb = [], [], [], []\n",
    "accuracies_svm, precisions_svm, recalls_svm, f1_score_svm = [], [], [], []\n",
    "accuracies_knn, precisions_knn, recalls_knn, f1_score_knn = [], [], [], []"
   ]
  },
  {
   "cell_type": "code",
   "execution_count": 29,
   "metadata": {},
   "outputs": [],
   "source": [
    "#loop para a cross validation\n",
    "for train_idx, test_idx in k_fold.split(df):\n",
    "\n",
    "    #separa o train test a cada interacao do kfold\n",
    "    X_train, X_test = df.iloc[train_idx]['Mensagem'], df.iloc[test_idx]['Mensagem']\n",
    "    y_train, y_test = df.iloc[train_idx]['Tipo'], df.iloc[test_idx]['Tipo']\n",
    "\n",
    "    accuracy_nb, precision_nb, recall_nb = treino_avaliacao_modelo(X_train, y_train, X_test, y_test, nb_classificador, param_nb)\n",
    "    accuracies_nb.append(accuracy_nb)\n",
    "    precisions_nb.append(precision_nb)\n",
    "    recalls_nb.append(recall_nb)\n",
    "    calcular_F1_score(precision_nb, recall_nb, f1_score_nb)\n",
    "\n",
    "    accuracy_svm, precision_svm, recall_svm = treino_avaliacao_modelo(X_train, y_train, X_test, y_test, svm_classificador, param_svm)\n",
    "    accuracies_svm.append(accuracy_svm)\n",
    "    precisions_svm.append(precision_svm)\n",
    "    recalls_svm.append(recall_svm)\n",
    "    calcular_F1_score(precision_svm, recall_svm, f1_score_svm)\n",
    "\n",
    "    accuracy_knn, precision_knn, recall_knn = treino_avaliacao_modelo(X_train, y_train, X_test, y_test, knn_classificador, param_knn)\n",
    "    accuracies_knn.append(accuracy_knn)\n",
    "    precisions_knn.append(precision_knn)\n",
    "    recalls_knn.append(recall_knn)\n",
    "    calcular_F1_score(precision_knn, recall_knn, f1_score_knn)\n"
   ]
  },
  {
   "cell_type": "markdown",
   "metadata": {},
   "source": [
    "## *Resultados*"
   ]
  },
  {
   "cell_type": "code",
   "execution_count": 30,
   "metadata": {},
   "outputs": [
    {
     "name": "stdout",
     "output_type": "stream",
     "text": [
      "Métricas para Naive Bayes (NB):\n",
      "Acurácias NB: [0.974910394265233, 0.978494623655914, 0.9802513464991023, 0.9820466786355476, 0.9766606822262118, 0.9748653500897666, 0.9784560143626571, 0.9856373429084381, 0.9748653500897666, 0.9748653500897666]\n",
      "Precisões NB: [0.9747338672241512, 0.9785974794651923, 0.9803441582380218, 0.9818277170189066, 0.977268720565008, 0.974534272361957, 0.9783875878072719, 0.9855916955647299, 0.9745061028333217, 0.9748478630884375]\n",
      "Recalls NB: [0.974910394265233, 0.978494623655914, 0.9802513464991023, 0.9820466786355476, 0.9766606822262118, 0.9748653500897666, 0.9784560143626571, 0.9856373429084381, 0.9748653500897666, 0.9748653500897666]\n",
      "F1-scores NB: [0.97482212270303, 0.9785460488077378, 0.9802977501217756, 0.9819371855706955, 0.976964606738655, 0.9746997830614463, 0.9784217998386007, 0.985614518658061, 0.9746856933089276, 0.9748566064606816]\n",
      "\n",
      "Métricas para Support Vector Machine (SVM):\n",
      "Acurácias SVM: [0.974910394265233, 0.974910394265233, 0.9802513464991023, 0.9820466786355476, 0.9784560143626571, 0.9820466786355476, 0.9856373429084381, 0.9874326750448833, 0.9766606822262118, 0.9730700179533214]\n",
      "Precisões SVM: [0.975091130698422, 0.9747555194259746, 0.9801245304303268, 0.981882671696497, 0.978155894112456, 0.9818916178759967, 0.9856607725573886, 0.9873009189306614, 0.9765506193615365, 0.972731464230736]\n",
      "Recalls SVM: [0.974910394265233, 0.974910394265233, 0.9802513464991023, 0.9820466786355476, 0.9784560143626571, 0.9820466786355476, 0.9856373429084381, 0.9874326750448833, 0.9766606822262118, 0.9730700179533214]\n",
      "F1-scores SVM: [0.9750007540560242, 0.9748329506442381, 0.9801879343128697, 0.9819646682679462, 0.9783059311701752, 0.9819691420844394, 0.985649057543678, 0.9873667925423253, 0.9766056476428696, 0.9729007115892236]\n",
      "\n",
      "Métricas para K-Nearest Neighbors (KNN):\n",
      "Acurácias KNN: [0.942652329749104, 0.956989247311828, 0.9497307001795332, 0.9515260323159784, 0.947935368043088, 0.9569120287253142, 0.947935368043088, 0.9694793536804309, 0.9533213644524237, 0.9299820466786356]\n",
      "Precisões KNN: [0.9461746434689288, 0.9590093218020748, 0.9525014489885353, 0.9528339989132992, 0.9508671628523121, 0.9571526225319802, 0.9509551166965889, 0.9704907591140228, 0.9547020347609475, 0.933632272068952]\n",
      "Recalls KNN: [0.942652329749104, 0.956989247311828, 0.9497307001795332, 0.9515260323159784, 0.947935368043088, 0.9569120287253142, 0.947935368043088, 0.9694793536804309, 0.9533213644524237, 0.9299820466786356]\n",
      "F1-scores KNN: [0.9444102023264963, 0.9579982196050741, 0.9511140566286578, 0.9521795663910079, 0.9493990020183694, 0.9570323104575853, 0.9494428412119275, 0.9699847926985902, 0.9540112000212758, 0.9318035845107906]\n"
     ]
    }
   ],
   "source": [
    "# Exibir resultados\n",
    "print(\"Métricas para Naive Bayes (NB):\")\n",
    "print(\"Acurácias NB:\", accuracies_nb)\n",
    "print(\"Precisões NB:\", precisions_nb)\n",
    "print(\"Recalls NB:\", recalls_nb)\n",
    "print(\"F1-scores NB:\", f1_score_nb)\n",
    "\n",
    "print(\"\\nMétricas para Support Vector Machine (SVM):\")\n",
    "print(\"Acurácias SVM:\", accuracies_svm)\n",
    "print(\"Precisões SVM:\", precisions_svm)\n",
    "print(\"Recalls SVM:\", recalls_svm)\n",
    "print(\"F1-scores SVM:\", f1_score_svm)\n",
    "\n",
    "print(\"\\nMétricas para K-Nearest Neighbors (KNN):\")\n",
    "print(\"Acurácias KNN:\", accuracies_knn)\n",
    "print(\"Precisões KNN:\", precisions_knn)\n",
    "print(\"Recalls KNN:\", recalls_knn)\n",
    "print(\"F1-scores KNN:\", f1_score_knn)"
   ]
  },
  {
   "cell_type": "markdown",
   "metadata": {},
   "source": [
    "# **Teste T**"
   ]
  },
  {
   "cell_type": "code",
   "execution_count": 31,
   "metadata": {},
   "outputs": [],
   "source": [
    "t_stats_acc, p_values_acc = [], []\n",
    "t_stats_pre, p_values_pre = [], []\n",
    "t_stats_rec, p_values_rec = [] ,[]\n",
    "\n",
    "def t_test(data1, data2, t_stats_list, p_values_list):\n",
    "    t_stat, p_value = stats.ttest_ind(data1, data2)\n",
    "    t_stats_list.append(t_stat)\n",
    "    p_values_list.append(p_value)\n"
   ]
  },
  {
   "cell_type": "code",
   "execution_count": 32,
   "metadata": {},
   "outputs": [],
   "source": [
    "#accuracy\n",
    "t_test(accuracies_nb, accuracies_svm, t_stats_acc, p_values_acc)\n",
    "t_test(accuracies_nb, accuracies_knn, t_stats_acc, p_values_acc)\n",
    "t_test(accuracies_svm, accuracies_knn, t_stats_acc, p_values_acc)\n",
    "\n",
    "#precisao\n",
    "t_test(precisions_nb, precisions_svm, t_stats_pre, p_values_pre)\n",
    "t_test(precisions_nb, precisions_knn, t_stats_pre, p_values_pre)\n",
    "t_test(precisions_svm, precisions_knn, t_stats_pre, p_values_pre)\n",
    "\n",
    "#recall\n",
    "t_test(recalls_nb, recalls_svm, t_stats_rec, p_values_rec)\n",
    "t_test(recalls_nb, recalls_knn, t_stats_rec, p_values_rec)\n",
    "t_test(recalls_svm, recalls_knn, t_stats_rec, p_values_rec)\n"
   ]
  },
  {
   "cell_type": "markdown",
   "metadata": {},
   "source": [
    "## *Resultados*"
   ]
  },
  {
   "cell_type": "code",
   "execution_count": 37,
   "metadata": {},
   "outputs": [
    {
     "name": "stdout",
     "output_type": "stream",
     "text": [
      "Resultados para Acurácia:\n",
      "Iteração 1: t-stat = -0.7530648330246711, p-value = 0.46114766227160287\n",
      "Iteração 2: t-stat = 7.96556290144111, p-value = 2.6058669049024275e-07\n",
      "Iteração 3: t-stat = 8.065106175774908, p-value = 2.1831202766970138e-07\n",
      "\n",
      "Resultados para Precisão:\n",
      "Iteração 1: t-stat = -0.7027666384765701, p-value = 0.4911909958588465\n",
      "Iteração 2: t-stat = 7.908196669878385, p-value = 2.8874233274721977e-07\n",
      "Iteração 3: t-stat = 7.969241928807366, p-value = 2.588814935643863e-07\n",
      "\n",
      "Resultados para Recall:\n",
      "Iteração 1: t-stat = -0.7530648330246711, p-value = 0.46114766227160287\n",
      "Iteração 2: t-stat = 7.96556290144111, p-value = 2.6058669049024275e-07\n",
      "Iteração 3: t-stat = 8.065106175774908, p-value = 2.1831202766970138e-07\n"
     ]
    }
   ],
   "source": [
    "# Imprimir os resultados\n",
    "print(\"Resultados para Acurácia:\")\n",
    "for i in range(len(t_stats_acc)):\n",
    "    print(f\"Iteração {i+1}: t-stat = {t_stats_acc[i]}, p-value = {p_values_acc[i]}\")\n",
    "\n",
    "print(\"\\nResultados para Precisão:\")\n",
    "for i in range(len(t_stats_pre)):\n",
    "    print(f\"Iteração {i+1}: t-stat = {t_stats_pre[i]}, p-value = {p_values_pre[i]}\")\n",
    "\n",
    "print(\"\\nResultados para Recall:\")\n",
    "for i in range(len(t_stats_rec)):\n",
    "    print(f\"Iteração {i+1}: t-stat = {t_stats_rec[i]}, p-value = {p_values_rec[i]}\")\n"
   ]
  },
  {
   "cell_type": "markdown",
   "metadata": {},
   "source": [
    "**Iteração 1**: NB SVM\n",
    "**Iteração 2**: NB KNN\n",
    "**Iteração 3**: SVM KNN"
   ]
  },
  {
   "cell_type": "markdown",
   "metadata": {},
   "source": [
    "# **Bonferroni**"
   ]
  },
  {
   "cell_type": "code",
   "execution_count": 34,
   "metadata": {},
   "outputs": [],
   "source": [
    "# Número total de comparações para cada métrica\n",
    "total_comparisons = 3\n",
    "\n",
    "# Vetores para armazenar os p-values corrigidos\n",
    "p_values_accuracy_corrected = [p * total_comparisons for p in p_values_acc]\n",
    "p_values_precision_corrected = [p * total_comparisons for p in p_values_pre]\n",
    "p_values_recall_corrected = [p * total_comparisons for p in p_values_rec]\n"
   ]
  },
  {
   "cell_type": "markdown",
   "metadata": {},
   "source": [
    "## *Resultados*"
   ]
  },
  {
   "cell_type": "code",
   "execution_count": 35,
   "metadata": {},
   "outputs": [
    {
     "name": "stdout",
     "output_type": "stream",
     "text": [
      "P-values corrigidos para Acurácia:\n",
      "Iteração 1: p-value corrigido = 1.3834429868148086\n",
      "Iteração 2: p-value corrigido = 7.817600714707283e-07\n",
      "Iteração 3: p-value corrigido = 6.549360830091041e-07\n",
      "\n",
      "P-values corrigidos para Precisão:\n",
      "Iteração 1: p-value corrigido = 1.4735729875765395\n",
      "Iteração 2: p-value corrigido = 8.662269982416593e-07\n",
      "Iteração 3: p-value corrigido = 7.766444806931588e-07\n",
      "\n",
      "P-values corrigidos para Recall:\n",
      "Iteração 1: p-value corrigido = 1.3834429868148086\n",
      "Iteração 2: p-value corrigido = 7.817600714707283e-07\n",
      "Iteração 3: p-value corrigido = 6.549360830091041e-07\n"
     ]
    }
   ],
   "source": [
    "# Imprimir os p-values corrigidos\n",
    "print(\"P-values corrigidos para Acurácia:\")\n",
    "for i in range(len(p_values_accuracy_corrected)):\n",
    "    print(f\"Iteração {i+1}: p-value corrigido = {p_values_accuracy_corrected[i]}\")\n",
    "\n",
    "print(\"\\nP-values corrigidos para Precisão:\")\n",
    "for i in range(len(p_values_precision_corrected)):\n",
    "    print(f\"Iteração {i+1}: p-value corrigido = {p_values_precision_corrected[i]}\")\n",
    "\n",
    "print(\"\\nP-values corrigidos para Recall:\")\n",
    "for i in range(len(p_values_recall_corrected)):\n",
    "    print(f\"Iteração {i+1}: p-value corrigido = {p_values_recall_corrected[i]}\")"
   ]
  },
  {
   "cell_type": "markdown",
   "metadata": {},
   "source": [
    "**Iteração 1**: NB SVM\n",
    "**Iteração 2**: NB KNN\n",
    "**Iteração 3**: SVM KNN"
   ]
  },
  {
   "cell_type": "code",
   "execution_count": null,
   "metadata": {},
   "outputs": [],
   "source": []
  }
 ],
 "metadata": {
  "kernelspec": {
   "display_name": ".venv",
   "language": "python",
   "name": "python3"
  },
  "language_info": {
   "codemirror_mode": {
    "name": "ipython",
    "version": 3
   },
   "file_extension": ".py",
   "mimetype": "text/x-python",
   "name": "python",
   "nbconvert_exporter": "python",
   "pygments_lexer": "ipython3",
   "version": "3.10.12"
  }
 },
 "nbformat": 4,
 "nbformat_minor": 2
}
